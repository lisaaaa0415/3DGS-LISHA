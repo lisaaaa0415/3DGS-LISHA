{
 "cells": [
  {
   "cell_type": "code",
   "execution_count": 11,
   "id": "b8150cb9",
   "metadata": {},
   "outputs": [
    {
     "name": "stdout",
     "output_type": "stream",
     "text": [
      "{'sh_degree': 3, 'source_path': '', 'model_path': '', 'images': 'images', 'resolution': -1, 'white_background': False, 'data_device': 'cuda', 'eval': False, 'iterations': 30000, 'position_lr_init': 0.00016, 'position_lr_final': 1.6e-06, 'position_lr_delay_mult': 0.01, 'position_lr_max_steps': 30000, 'feature_lr': 0.0025, 'opacity_lr': 0.05, 'scaling_lr': 0.005, 'rotation_lr': 0.001, 'percent_dense': 0.01, 'lambda_dssim': 0.2, 'densification_interval': 100, 'opacity_reset_interval': 3000, 'densify_from_iter': 500, 'densify_until_iter': 15000, 'densify_grad_threshold': 0.0002, 'convert_SHs_python': False, 'compute_cov3D_python': False}\n"
     ]
    }
   ],
   "source": [
    "import json\n",
    "with open('config.json','r')as file:\n",
    "    data=json.load(file)\n",
    "    print(data)"
   ]
  },
  {
   "cell_type": "code",
   "execution_count": 9,
   "id": "3dd9d7d6",
   "metadata": {},
   "outputs": [],
   "source": [
    "from argparse import ArgumentParser\n",
    "class paramter:\n",
    "    def __init__(self,parser:ArgumentParser,nofill=False):\n",
    "        for key,value in vars(self).item:\n",
    "            ty=type(value)\n",
    "            isword=true\n",
    "            if key.startwith(\"_\"):\n",
    "                key=key[1:]\n",
    "                isword=false\n",
    "            if nofill:\n",
    "                value=none\n",
    "            if isword:\n",
    "                if ty==bool:\n",
    "                    parser.add_argument(\"--\" + key, default=value, action=\"store_true\")\n",
    "                else:\n",
    "                    parser.add_argument(\"--\" + key, default=value,type=ty)\n",
    "            else:\n",
    "                if ty==bool:\n",
    "                    parser.add_argument(\"--\" + key, (\"-\" + key[0:1]), default=value, action=\"store_true\")\n",
    "                else:\n",
    "                    parser.add_argument(\"--\" + key, (\"-\" + key[0:1]), default=value, type=t)\n",
    "      \n",
    "                "
   ]
  },
  {
   "cell_type": "code",
   "execution_count": null,
   "id": "09e4fe00",
   "metadata": {},
   "outputs": [],
   "source": []
  },
  {
   "cell_type": "code",
   "execution_count": null,
   "id": "b31771e5",
   "metadata": {},
   "outputs": [],
   "source": []
  },
  {
   "cell_type": "code",
   "execution_count": null,
   "id": "73cf9dee",
   "metadata": {},
   "outputs": [],
   "source": []
  }
 ],
 "metadata": {
  "kernelspec": {
   "display_name": "Python 3 (ipykernel)",
   "language": "python",
   "name": "python3"
  },
  "language_info": {
   "codemirror_mode": {
    "name": "ipython",
    "version": 3
   },
   "file_extension": ".py",
   "mimetype": "text/x-python",
   "name": "python",
   "nbconvert_exporter": "python",
   "pygments_lexer": "ipython3",
   "version": "3.11.5"
  }
 },
 "nbformat": 4,
 "nbformat_minor": 5
}
