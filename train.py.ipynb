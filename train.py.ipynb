{
 "cells": [
  {
   "cell_type": "code",
   "execution_count": 10,
   "id": "edcc579a",
   "metadata": {
    "scrolled": false
   },
   "outputs": [
    {
     "name": "stderr",
     "output_type": "stream",
     "text": [
      "usage: ipykernel_launcher.py [-h] [--sh_degree SH_DEGREE] [--source_path SOURCE_PATH] [--model_path MODEL_PATH]\n",
      "                             [--images IMAGES] [--resolution RESOLUTION] [--white_background WHITE_BACKGROUND]\n",
      "                             [--data_device DATA_DEVICE] [--eval EVAL] [--iterations ITERATIONS]\n",
      "                             [--position_lr_init POSITION_LR_INIT] [--position_lr_final POSITION_LR_FINAL]\n",
      "                             [--position_lr_delay_mult POSITION_LR_DELAY_MULT]\n",
      "                             [--position_lr_max_steps POSITION_LR_MAX_STEPS] [--feature_lr FEATURE_LR]\n",
      "                             [--opacity_lr OPACITY_LR] [--scaling_lr SCALING_LR] [--rotation_lr ROTATION_LR]\n",
      "                             [--percent_dense PERCENT_DENSE] [--lambda_dssim LAMBDA_DSSIM]\n",
      "                             [--densification_interval DENSIFICATION_INTERVAL]\n",
      "                             [--opacity_reset_interval OPACITY_RESET_INTERVAL] [--densify_from_iter DENSIFY_FROM_ITER]\n",
      "                             [--densify_until_iter DENSIFY_UNTIL_ITER]\n",
      "                             [--densify_grad_threshold DENSIFY_GRAD_THRESHOLD]\n",
      "                             [--convert_SHs_python CONVERT_SHS_PYTHON] [--compute_cov3D_python COMPUTE_COV3D_PYTHON]\n",
      "                             [--detect_anomaly] [--test_iterations TEST_ITERATIONS [TEST_ITERATIONS ...]]\n",
      "                             [--save_iterations SAVE_ITERATIONS [SAVE_ITERATIONS ...]]\n",
      "                             [--checkpoint_iterations CHECKPOINT_ITERATIONS [CHECKPOINT_ITERATIONS ...]]\n",
      "                             [--start_checkpoint START_CHECKPOINT]\n",
      "ipykernel_launcher.py: error: unrecognized arguments: -f C:\\Users\\25309\\AppData\\Roaming\\jupyter\\runtime\\kernel-9ab37758-cc14-429b-894f-c686bf96a9e0.json\n"
     ]
    },
    {
     "ename": "SystemExit",
     "evalue": "2",
     "output_type": "error",
     "traceback": [
      "An exception has occurred, use %tb to see the full traceback.\n",
      "\u001b[1;31mSystemExit\u001b[0m\u001b[1;31m:\u001b[0m 2\n"
     ]
    }
   ],
   "source": [
    "import parameter\n",
    "import argparse\n",
    "import sys\n",
    "if __name__ == '__main__':\n",
    "    # 参数处理\n",
    "    parser = argparse.ArgumentParser()\n",
    "    data=parameter.data\n",
    "    for key, value in data.items():\n",
    "        parser.add_argument(f'--{key}', default=value, help=f'{key} parameter')\n",
    "    parser.add_argument(\"--detect_anomaly\", action=\"store_true\", default=False)\n",
    "    parser.add_argument(\"--test_iterations\", nargs=\"+\", type=int, default=[100,1_000, 7_000, 30_000])\n",
    "    parser.add_argument(\"--save_iterations\", nargs=\"+\", type=int, default=[100,1_000, 7_000, 30_000])    \n",
    "    parser.add_argument(\"--checkpoint_iterations\", nargs=\"+\", type=int, default=[100, 1_000, 7_000, 30_000])\n",
    "    parser.add_argument(\"--start_checkpoint\", type=str, default = None)\n",
    "    args = parser.parse_args(sys.argv[1:])\n",
    "    #for key, value in vars(parser).items():\n",
    "        #print(f'{key}: {value}')"
   ]
  },
  {
   "cell_type": "code",
   "execution_count": null,
   "id": "b0b404db",
   "metadata": {},
   "outputs": [],
   "source": []
  },
  {
   "cell_type": "code",
   "execution_count": null,
   "id": "8dfb3002",
   "metadata": {},
   "outputs": [],
   "source": []
  },
  {
   "cell_type": "code",
   "execution_count": null,
   "id": "65d90d1c",
   "metadata": {},
   "outputs": [],
   "source": []
  },
  {
   "cell_type": "code",
   "execution_count": null,
   "id": "0f9e9eb2",
   "metadata": {},
   "outputs": [],
   "source": []
  }
 ],
 "metadata": {
  "kernelspec": {
   "display_name": "Python 3 (ipykernel)",
   "language": "python",
   "name": "python3"
  },
  "language_info": {
   "codemirror_mode": {
    "name": "ipython",
    "version": 3
   },
   "file_extension": ".py",
   "mimetype": "text/x-python",
   "name": "python",
   "nbconvert_exporter": "python",
   "pygments_lexer": "ipython3",
   "version": "3.11.5"
  }
 },
 "nbformat": 4,
 "nbformat_minor": 5
}
