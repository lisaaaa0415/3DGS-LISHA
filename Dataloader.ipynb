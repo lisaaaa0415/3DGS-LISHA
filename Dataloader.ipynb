{
 "cells": [
  {
   "cell_type": "code",
   "execution_count": 1,
   "id": "f0d6a8e9",
   "metadata": {
    "scrolled": false
   },
   "outputs": [
    {
     "name": "stdout",
     "output_type": "stream",
     "text": [
      "importing Jupyter notebook from train.ipynb\n",
      "{'sh_degree': 3, 'source_path': '', 'model_path': '', 'images': 'images', 'resolution': -1, 'white_background': False, 'data_device': 'cuda', 'eval': False, 'iterations': 30000, 'position_lr_init': 0.00016, 'position_lr_final': 1.6e-06, 'position_lr_delay_mult': 0.01, 'position_lr_max_steps': 30000, 'feature_lr': 0.0025, 'opacity_lr': 0.05, 'scaling_lr': 0.005, 'rotation_lr': 0.001, 'percent_dense': 0.01, 'lambda_dssim': 0.2, 'densification_interval': 100, 'opacity_reset_interval': 3000, 'densify_from_iter': 500, 'densify_until_iter': 15000, 'densify_grad_threshold': 0.0002, 'convert_SHs_python': False, 'compute_cov3D_python': False}\n"
     ]
    },
    {
     "ename": "ImportError",
     "evalue": "cannot import name 'args' from 'train' (train.ipynb)",
     "output_type": "error",
     "traceback": [
      "\u001b[1;31m---------------------------------------------------------------------------\u001b[0m",
      "\u001b[1;31mImportError\u001b[0m                               Traceback (most recent call last)",
      "Cell \u001b[1;32mIn[1], line 2\u001b[0m\n\u001b[0;32m      1\u001b[0m \u001b[38;5;28;01mimport\u001b[39;00m \u001b[38;5;21;01mimport_ipynb\u001b[39;00m\n\u001b[1;32m----> 2\u001b[0m \u001b[38;5;28;01mfrom\u001b[39;00m \u001b[38;5;21;01mtrain\u001b[39;00m \u001b[38;5;28;01mimport\u001b[39;00m args\n\u001b[0;32m      3\u001b[0m get_ipython()\u001b[38;5;241m.\u001b[39mrun_line_magic(\u001b[38;5;124m'\u001b[39m\u001b[38;5;124mrun\u001b[39m\u001b[38;5;124m'\u001b[39m, \u001b[38;5;124m'\u001b[39m\u001b[38;5;124mtrain.ipynb\u001b[39m\u001b[38;5;124m'\u001b[39m)\n\u001b[0;32m      4\u001b[0m data_path\u001b[38;5;241m=\u001b[39mtrain\u001b[38;5;241m.\u001b[39margs\u001b[38;5;241m.\u001b[39msource_path\n",
      "\u001b[1;31mImportError\u001b[0m: cannot import name 'args' from 'train' (train.ipynb)"
     ]
    }
   ],
   "source": [
    "import import_ipynb\n",
    "from train import args\n",
    "%run train.ipynb\n",
    "data_path=train.args.source_path\n",
    "print(data_path)\n",
    "cameras_extrinsic_path=os.path_join(data_path,\"sparse/0\",\"images.bin\")\n",
    "cameras_intrinsic_path=os.path_join(data_path,\"sparse/0\",\"cameras.bin\")\n",
    "cam_extrinsics=red_extrinsics_binary(cameras_extrinsic_path)\n",
    "cam_intrinsics=red_intrinsics_binary(cameras_intrinsic_path)"
   ]
  },
  {
   "cell_type": "code",
   "execution_count": null,
   "id": "68589db8",
   "metadata": {},
   "outputs": [],
   "source": []
  },
  {
   "cell_type": "code",
   "execution_count": null,
   "id": "93f40505",
   "metadata": {},
   "outputs": [],
   "source": []
  },
  {
   "cell_type": "code",
   "execution_count": null,
   "id": "dcb5dbb4",
   "metadata": {},
   "outputs": [],
   "source": []
  },
  {
   "cell_type": "code",
   "execution_count": null,
   "id": "dbd646f2",
   "metadata": {},
   "outputs": [],
   "source": []
  },
  {
   "cell_type": "code",
   "execution_count": null,
   "id": "72c92442",
   "metadata": {},
   "outputs": [],
   "source": []
  },
  {
   "cell_type": "code",
   "execution_count": null,
   "id": "acfd93af",
   "metadata": {},
   "outputs": [],
   "source": []
  },
  {
   "cell_type": "code",
   "execution_count": null,
   "id": "7154dbc4",
   "metadata": {},
   "outputs": [],
   "source": []
  },
  {
   "cell_type": "code",
   "execution_count": null,
   "id": "3f82fdae",
   "metadata": {},
   "outputs": [],
   "source": []
  }
 ],
 "metadata": {
  "kernelspec": {
   "display_name": "Python 3 (ipykernel)",
   "language": "python",
   "name": "python3"
  },
  "language_info": {
   "codemirror_mode": {
    "name": "ipython",
    "version": 3
   },
   "file_extension": ".py",
   "mimetype": "text/x-python",
   "name": "python",
   "nbconvert_exporter": "python",
   "pygments_lexer": "ipython3",
   "version": "3.11.5"
  }
 },
 "nbformat": 4,
 "nbformat_minor": 5
}
