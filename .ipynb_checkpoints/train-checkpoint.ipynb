{
 "cells": [
  {
   "cell_type": "code",
   "execution_count": 2,
   "id": "edcc579a",
   "metadata": {
    "scrolled": false
   },
   "outputs": [
    {
     "ename": "IndentationError",
     "evalue": "unexpected indent (3691313065.py, line 4)",
     "output_type": "error",
     "traceback": [
      "\u001b[1;36m  Cell \u001b[1;32mIn[2], line 4\u001b[1;36m\u001b[0m\n\u001b[1;33m    parser = argparse.ArgumentParser()\u001b[0m\n\u001b[1;37m    ^\u001b[0m\n\u001b[1;31mIndentationError\u001b[0m\u001b[1;31m:\u001b[0m unexpected indent\n"
     ]
    }
   ],
   "source": [
    "import parameter\n",
    "import argparse\n",
    "import sys\n",
    "    parser = argparse.ArgumentParser()\n",
    "    data=parameter.data\n",
    "    for key, value in data.items():\n",
    "        parser.add_argument(f'--{key}', default=value, help=f'{key} parameter')\n",
    "    parser.add_argument(\"--detect_anomaly\", action=\"store_true\", default=False)\n",
    "    parser.add_argument(\"--test_iterations\", nargs=\"+\", type=int, default=[100,1_000, 7_000, 30_000])\n",
    "    parser.add_argument(\"--save_iterations\", nargs=\"+\", type=int, default=[100,1_000, 7_000, 30_000])    \n",
    "    parser.add_argument(\"--checkpoint_iterations\", nargs=\"+\", type=int, default=[100, 1_000, 7_000, 30_000])\n",
    "    parser.add_argument(\"--start_checkpoint\", type=str, default = None)\n",
    "    args = parser.parse_args()\n",
    "    #for key, value in vars(parser).items():\n",
    "        #print(f'{key}: {value}')"
   ]
  },
  {
   "cell_type": "code",
   "execution_count": null,
   "id": "b0b404db",
   "metadata": {},
   "outputs": [],
   "source": []
  },
  {
   "cell_type": "code",
   "execution_count": null,
   "id": "8dfb3002",
   "metadata": {},
   "outputs": [],
   "source": []
  },
  {
   "cell_type": "code",
   "execution_count": null,
   "id": "65d90d1c",
   "metadata": {},
   "outputs": [],
   "source": []
  },
  {
   "cell_type": "code",
   "execution_count": null,
   "id": "0f9e9eb2",
   "metadata": {},
   "outputs": [],
   "source": []
  }
 ],
 "metadata": {
  "kernelspec": {
   "display_name": "Python 3 (ipykernel)",
   "language": "python",
   "name": "python3"
  },
  "language_info": {
   "codemirror_mode": {
    "name": "ipython",
    "version": 3
   },
   "file_extension": ".py",
   "mimetype": "text/x-python",
   "name": "python",
   "nbconvert_exporter": "python",
   "pygments_lexer": "ipython3",
   "version": "3.11.5"
  }
 },
 "nbformat": 4,
 "nbformat_minor": 5
}
