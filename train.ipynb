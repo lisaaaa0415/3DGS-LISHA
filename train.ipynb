{
 "cells": [
  {
   "cell_type": "code",
   "execution_count": 11,
   "id": "edcc579a",
   "metadata": {
    "scrolled": false
   },
   "outputs": [
    {
     "name": "stdout",
     "output_type": "stream",
     "text": [
      "sh_degree: 3\n",
      "source_path: \n",
      "model_path: \n",
      "images: images\n",
      "resolution: -1\n",
      "white_background: False\n",
      "data_device: cuda\n",
      "eval: False\n",
      "iterations: 30000\n",
      "position_lr_init: 0.00016\n",
      "position_lr_final: 1.6e-06\n",
      "position_lr_delay_mult: 0.01\n",
      "position_lr_max_steps: 30000\n",
      "feature_lr: 0.0025\n",
      "opacity_lr: 0.05\n",
      "scaling_lr: 0.005\n",
      "rotation_lr: 0.001\n",
      "percent_dense: 0.01\n",
      "lambda_dssim: 0.2\n",
      "densification_interval: 100\n",
      "opacity_reset_interval: 3000\n",
      "densify_from_iter: 500\n",
      "densify_until_iter: 15000\n",
      "densify_grad_threshold: 0.0002\n",
      "convert_SHs_python: False\n",
      "compute_cov3D_python: False\n",
      "detect_anomaly: True\n",
      "test_iterations: [100, 2000]\n",
      "save_iterations: [100, 2000]\n",
      "checkpoint_iterations: [100, 1000, 7000, 30000]\n",
      "start_checkpoint: None\n"
     ]
    }
   ],
   "source": [
    "import parameter\n",
    "import argparse\n",
    "import sys\n",
    "\n",
    "def main(argv=None):\n",
    "    if argv is None:\n",
    "        argv = sys.argv[1:]\n",
    "    \n",
    "    parser = argparse.ArgumentParser()\n",
    "    data = parameter.data\n",
    "    for key, value in data.items():\n",
    "        parser.add_argument(f'--{key}', default=value, help=f'{key} parameter')\n",
    "    \n",
    "    parser.add_argument(\"--detect_anomaly\", action=\"store_true\", default=False)\n",
    "    parser.add_argument(\"--test_iterations\", nargs=\"+\", type=int, default=[100, 1_000, 7_000, 30_000])\n",
    "    parser.add_argument(\"--save_iterations\", nargs=\"+\", type=int, default=[100, 1_000, 7_000, 30_000])    \n",
    "    parser.add_argument(\"--checkpoint_iterations\", nargs=\"+\", type=int, default=[100, 1_000, 7_000, 30_000])\n",
    "    parser.add_argument(\"--start_checkpoint\", type=str, default=None)\n",
    "    \n",
    "    args = parser.parse_args(argv)\n",
    "    \n",
    "    \n",
    "    for key, value in vars(args).items():\n",
    "        print(f'{key}: {value}')\n",
    "\n",
    "# 测试\n",
    "argv = ['--detect_anomaly', '--test_iterations', '100', '2000', '--save_iterations', '100', '2000']\n",
    "\n",
    "main(argv)\n"
   ]
  },
  {
   "cell_type": "code",
   "execution_count": null,
   "id": "b0b404db",
   "metadata": {},
   "outputs": [],
   "source": []
  },
  {
   "cell_type": "code",
   "execution_count": null,
   "id": "8dfb3002",
   "metadata": {},
   "outputs": [],
   "source": []
  },
  {
   "cell_type": "code",
   "execution_count": null,
   "id": "65d90d1c",
   "metadata": {},
   "outputs": [],
   "source": []
  },
  {
   "cell_type": "code",
   "execution_count": null,
   "id": "0f9e9eb2",
   "metadata": {},
   "outputs": [],
   "source": []
  }
 ],
 "metadata": {
  "kernelspec": {
   "display_name": "Python 3 (ipykernel)",
   "language": "python",
   "name": "python3"
  },
  "language_info": {
   "codemirror_mode": {
    "name": "ipython",
    "version": 3
   },
   "file_extension": ".py",
   "mimetype": "text/x-python",
   "name": "python",
   "nbconvert_exporter": "python",
   "pygments_lexer": "ipython3",
   "version": "3.11.5"
  }
 },
 "nbformat": 4,
 "nbformat_minor": 5
}
